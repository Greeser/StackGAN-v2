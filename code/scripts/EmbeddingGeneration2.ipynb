{
 "cells": [
  {
   "cell_type": "code",
   "execution_count": 1,
   "metadata": {},
   "outputs": [],
   "source": [
    "import bcolz\n",
    "import numpy as np\n",
    "import pickle\n",
    "import pandas as pd\n",
    "import re\n",
    "import os"
   ]
  },
  {
   "cell_type": "code",
   "execution_count": 2,
   "metadata": {},
   "outputs": [],
   "source": [
    "GLOVE_PATH= \"../../data/glove_6B\"\n",
    "FILEPATH = \"./shoes_v2.csv\""
   ]
  },
  {
   "cell_type": "code",
   "execution_count": 3,
   "metadata": {},
   "outputs": [],
   "source": [
    "words = []\n",
    "idx = 0\n",
    "word2idx = {}\n",
    "vectors = bcolz.carray(np.zeros(1), rootdir=os.path.join(GLOVE_PATH,'glove.6B.50d.dat'), mode='w')\n",
    "\n",
    "with open(os.path.join(GLOVE_PATH,'glove.6B.50d.txt'), 'rb') as f:\n",
    "    for l in f:\n",
    "        line = l.decode().split()\n",
    "        word = line[0]\n",
    "        words.append(word)\n",
    "        word2idx[word] = idx\n",
    "        idx += 1\n",
    "        vect = np.array(line[1:]).astype(np.float)\n",
    "        vectors.append(vect)\n",
    "    \n",
    "vectors = bcolz.carray(vectors[1:].reshape((400000, 50)), rootdir=os.path.join(GLOVE_PATH,'glove.6B.50d.dat'), mode='w')\n",
    "vectors.flush()\n",
    "pickle.dump(words, open(os.path.join(GLOVE_PATH, 'glove.6B.50d_words.pkl'), 'wb'))\n",
    "pickle.dump(word2idx, open(os.path.join(GLOVE_PATH, 'glove.6B.50d_idx.pkl'), 'wb'))"
   ]
  },
  {
   "cell_type": "code",
   "execution_count": 4,
   "metadata": {},
   "outputs": [],
   "source": [
    "vectors = bcolz.open(os.path.join(GLOVE_PATH, 'glove.6B.50d.dat'))[:]\n",
    "words = pickle.load(open(os.path.join(GLOVE_PATH, 'glove.6B.50d_words.pkl'), 'rb'))\n",
    "word2idx = pickle.load(open(os.path.join(GLOVE_PATH, 'glove.6B.50d_idx.pkl'), 'rb'))\n",
    "\n",
    "glove = {w: vectors[word2idx[w]] for w in words}"
   ]
  },
  {
   "cell_type": "code",
   "execution_count": 6,
   "metadata": {},
   "outputs": [
    {
     "data": {
      "text/html": [
       "<div>\n",
       "<style scoped>\n",
       "    .dataframe tbody tr th:only-of-type {\n",
       "        vertical-align: middle;\n",
       "    }\n",
       "\n",
       "    .dataframe tbody tr th {\n",
       "        vertical-align: top;\n",
       "    }\n",
       "\n",
       "    .dataframe thead th {\n",
       "        text-align: right;\n",
       "    }\n",
       "</style>\n",
       "<table border=\"1\" class=\"dataframe\">\n",
       "  <thead>\n",
       "    <tr style=\"text-align: right;\">\n",
       "      <th></th>\n",
       "      <th>Unnamed: 0</th>\n",
       "      <th>CID</th>\n",
       "      <th>Url</th>\n",
       "      <th>Descr0</th>\n",
       "      <th>Descr1</th>\n",
       "      <th>Descr2</th>\n",
       "      <th>Descr3</th>\n",
       "      <th>Descr4</th>\n",
       "      <th>Descr5</th>\n",
       "      <th>Descr6</th>\n",
       "      <th>Descr7</th>\n",
       "      <th>Descr8</th>\n",
       "      <th>Descr9</th>\n",
       "    </tr>\n",
       "  </thead>\n",
       "  <tbody>\n",
       "    <tr>\n",
       "      <th>0</th>\n",
       "      <td>0</td>\n",
       "      <td>100627-255</td>\n",
       "      <td>Shoes/Oxfords/Bostonian/100627.255.jpg</td>\n",
       "      <td>Leather insole Bostonian Round Toe style black...</td>\n",
       "      <td>Oxfords Shoes Round Toe style for Men Lace up ...</td>\n",
       "      <td>Bostonian Lace up Oxfords Leather material Sho...</td>\n",
       "      <td>for Men Bostonian  Oxfords Round Toe style bla...</td>\n",
       "      <td>Leather insole Bostonian  Oxfords black for Me...</td>\n",
       "      <td>Round Toe style Bostonian Leather material Lea...</td>\n",
       "      <td>Leather material Oxfords  Bostonian black Lace...</td>\n",
       "      <td>black Lace up Shoes Bostonian Round Toe style ...</td>\n",
       "      <td>Leather material Lace up Leather insole Oxford...</td>\n",
       "      <td>Leather insole  Oxfords for Men Leather materi...</td>\n",
       "    </tr>\n",
       "    <tr>\n",
       "      <th>1</th>\n",
       "      <td>1</td>\n",
       "      <td>100627-72</td>\n",
       "      <td>Shoes/Oxfords/Bostonian/100627.72.jpg</td>\n",
       "      <td>for Men black Bostonian Lace up Leather insol...</td>\n",
       "      <td>Oxfords Capped Toe style  black Shoes for Men ...</td>\n",
       "      <td>Capped Toe style  Oxfords Lace up Bostonian fo...</td>\n",
       "      <td>black Bostonian Leather insole Oxfords Leather...</td>\n",
       "      <td>Bostonian Shoes Lace up for Men  black Oxfords...</td>\n",
       "      <td>Shoes Capped Toe style Bostonian  Oxfords Leat...</td>\n",
       "      <td>Bostonian Lace up Leather material Oxfords Lea...</td>\n",
       "      <td>Bostonian Oxfords Leather insole Shoes Capped ...</td>\n",
       "      <td>Bostonian Capped Toe style Oxfords Leather mat...</td>\n",
       "      <td>Leather insole Capped Toe style Oxfords for Me...</td>\n",
       "    </tr>\n",
       "    <tr>\n",
       "      <th>2</th>\n",
       "      <td>2</td>\n",
       "      <td>100657-216</td>\n",
       "      <td>Shoes/Oxfords/Bostonian/100657.216.jpg</td>\n",
       "      <td>Leather material Oxfords Round Toe style for M...</td>\n",
       "      <td>Shoes  Oxfords Bostonian for Men Leather mater...</td>\n",
       "      <td>for Men black Shoes Leather material Oxfords B...</td>\n",
       "      <td>for Men Lace up Leather insole  Bostonian blac...</td>\n",
       "      <td>Round Toe style  black Bostonian Shoes Lace up...</td>\n",
       "      <td>for Men Leather material Round Toe style Shoes...</td>\n",
       "      <td>Leather material for Men Lace up Shoes black L...</td>\n",
       "      <td>Shoes black Round Toe style for Men Lace up  B...</td>\n",
       "      <td>Lace up Oxfords Shoes  Leather material for Me...</td>\n",
       "      <td>Bostonian  Leather material Lace up Round Toe ...</td>\n",
       "    </tr>\n",
       "    <tr>\n",
       "      <th>3</th>\n",
       "      <td>3</td>\n",
       "      <td>100657-72</td>\n",
       "      <td>Shoes/Oxfords/Bostonian/100657.72.jpg</td>\n",
       "      <td>Leather material Capped Toe style for Men Bost...</td>\n",
       "      <td>Shoes Lace up Capped Toe style Leather insole ...</td>\n",
       "      <td>Oxfords Bostonian Lace up black Shoes  for Men...</td>\n",
       "      <td>Capped Toe style for Men Oxfords black Bostoni...</td>\n",
       "      <td>Shoes for Men Leather insole Leather material...</td>\n",
       "      <td>Oxfords Bostonian Capped Toe style Leather ma...</td>\n",
       "      <td>Capped Toe style Shoes Leather insole Lace up ...</td>\n",
       "      <td>Capped Toe style Leather insole Oxfords Leathe...</td>\n",
       "      <td>Bostonian black for Men Capped Toe style Shoes...</td>\n",
       "      <td>Lace up Leather insole  Leather material Cappe...</td>\n",
       "    </tr>\n",
       "    <tr>\n",
       "      <th>4</th>\n",
       "      <td>4</td>\n",
       "      <td>101026-3</td>\n",
       "      <td>Boots/Mid-Calf/Durango/101026.3.jpg</td>\n",
       "      <td>Oxfords Padded insole  black white Lace up Sho...</td>\n",
       "      <td>for Men Leather material Bostonian Capped Toe ...</td>\n",
       "      <td>Oxfords black white Leather material Shoes for...</td>\n",
       "      <td>Shoes Lace up Capped Toe style Bostonian Leat...</td>\n",
       "      <td>Bostonian for Men Leather insole Oxfords  Lace...</td>\n",
       "      <td>Oxfords Capped Toe style Shoes  Lace up Leathe...</td>\n",
       "      <td>Capped Toe style Shoes Lace up Oxfords Bostoni...</td>\n",
       "      <td>Bostonian for Men Oxfords Shoes Padded insole ...</td>\n",
       "      <td>Lace up Oxfords black white for Men Capped Toe...</td>\n",
       "      <td>Leather material Capped Toe style Bostonian fo...</td>\n",
       "    </tr>\n",
       "  </tbody>\n",
       "</table>\n",
       "</div>"
      ],
      "text/plain": [
       "   Unnamed: 0         CID                                     Url  \\\n",
       "0           0  100627-255  Shoes/Oxfords/Bostonian/100627.255.jpg   \n",
       "1           1   100627-72   Shoes/Oxfords/Bostonian/100627.72.jpg   \n",
       "2           2  100657-216  Shoes/Oxfords/Bostonian/100657.216.jpg   \n",
       "3           3   100657-72   Shoes/Oxfords/Bostonian/100657.72.jpg   \n",
       "4           4    101026-3     Boots/Mid-Calf/Durango/101026.3.jpg   \n",
       "\n",
       "                                              Descr0  \\\n",
       "0  Leather insole Bostonian Round Toe style black...   \n",
       "1   for Men black Bostonian Lace up Leather insol...   \n",
       "2  Leather material Oxfords Round Toe style for M...   \n",
       "3  Leather material Capped Toe style for Men Bost...   \n",
       "4  Oxfords Padded insole  black white Lace up Sho...   \n",
       "\n",
       "                                              Descr1  \\\n",
       "0  Oxfords Shoes Round Toe style for Men Lace up ...   \n",
       "1  Oxfords Capped Toe style  black Shoes for Men ...   \n",
       "2  Shoes  Oxfords Bostonian for Men Leather mater...   \n",
       "3  Shoes Lace up Capped Toe style Leather insole ...   \n",
       "4  for Men Leather material Bostonian Capped Toe ...   \n",
       "\n",
       "                                              Descr2  \\\n",
       "0  Bostonian Lace up Oxfords Leather material Sho...   \n",
       "1  Capped Toe style  Oxfords Lace up Bostonian fo...   \n",
       "2  for Men black Shoes Leather material Oxfords B...   \n",
       "3  Oxfords Bostonian Lace up black Shoes  for Men...   \n",
       "4  Oxfords black white Leather material Shoes for...   \n",
       "\n",
       "                                              Descr3  \\\n",
       "0  for Men Bostonian  Oxfords Round Toe style bla...   \n",
       "1  black Bostonian Leather insole Oxfords Leather...   \n",
       "2  for Men Lace up Leather insole  Bostonian blac...   \n",
       "3  Capped Toe style for Men Oxfords black Bostoni...   \n",
       "4   Shoes Lace up Capped Toe style Bostonian Leat...   \n",
       "\n",
       "                                              Descr4  \\\n",
       "0  Leather insole Bostonian  Oxfords black for Me...   \n",
       "1  Bostonian Shoes Lace up for Men  black Oxfords...   \n",
       "2  Round Toe style  black Bostonian Shoes Lace up...   \n",
       "3   Shoes for Men Leather insole Leather material...   \n",
       "4  Bostonian for Men Leather insole Oxfords  Lace...   \n",
       "\n",
       "                                              Descr5  \\\n",
       "0  Round Toe style Bostonian Leather material Lea...   \n",
       "1  Shoes Capped Toe style Bostonian  Oxfords Leat...   \n",
       "2  for Men Leather material Round Toe style Shoes...   \n",
       "3   Oxfords Bostonian Capped Toe style Leather ma...   \n",
       "4  Oxfords Capped Toe style Shoes  Lace up Leathe...   \n",
       "\n",
       "                                              Descr6  \\\n",
       "0  Leather material Oxfords  Bostonian black Lace...   \n",
       "1  Bostonian Lace up Leather material Oxfords Lea...   \n",
       "2  Leather material for Men Lace up Shoes black L...   \n",
       "3  Capped Toe style Shoes Leather insole Lace up ...   \n",
       "4  Capped Toe style Shoes Lace up Oxfords Bostoni...   \n",
       "\n",
       "                                              Descr7  \\\n",
       "0  black Lace up Shoes Bostonian Round Toe style ...   \n",
       "1  Bostonian Oxfords Leather insole Shoes Capped ...   \n",
       "2  Shoes black Round Toe style for Men Lace up  B...   \n",
       "3  Capped Toe style Leather insole Oxfords Leathe...   \n",
       "4  Bostonian for Men Oxfords Shoes Padded insole ...   \n",
       "\n",
       "                                              Descr8  \\\n",
       "0  Leather material Lace up Leather insole Oxford...   \n",
       "1  Bostonian Capped Toe style Oxfords Leather mat...   \n",
       "2  Lace up Oxfords Shoes  Leather material for Me...   \n",
       "3  Bostonian black for Men Capped Toe style Shoes...   \n",
       "4  Lace up Oxfords black white for Men Capped Toe...   \n",
       "\n",
       "                                              Descr9  \n",
       "0  Leather insole  Oxfords for Men Leather materi...  \n",
       "1  Leather insole Capped Toe style Oxfords for Me...  \n",
       "2  Bostonian  Leather material Lace up Round Toe ...  \n",
       "3  Lace up Leather insole  Leather material Cappe...  \n",
       "4  Leather material Capped Toe style Bostonian fo...  "
      ]
     },
     "execution_count": 6,
     "metadata": {},
     "output_type": "execute_result"
    }
   ],
   "source": [
    "descriptions = pd.read_csv('../../data/descriptions_df_v0.csv')\n",
    "descriptions.head()"
   ]
  },
  {
   "cell_type": "code",
   "execution_count": 7,
   "metadata": {},
   "outputs": [],
   "source": [
    "descr_cols = [f'Descr{d}' for d in range(10)]\n",
    "\n",
    "descriptions[descr_cols] = descriptions[descr_cols].apply(lambda col: col.str.lower().str.split(), axis=0)"
   ]
  },
  {
   "cell_type": "code",
   "execution_count": 8,
   "metadata": {},
   "outputs": [
    {
     "data": {
      "text/plain": [
       "(13, 27, 19.76049740311626)"
      ]
     },
     "execution_count": 8,
     "metadata": {},
     "output_type": "execute_result"
    }
   ],
   "source": [
    "lens = descriptions[descr_cols].applymap(lambda desc: len(desc)).values\n",
    "lens.min(), lens.max(), lens.mean()"
   ]
  },
  {
   "cell_type": "code",
   "execution_count": 9,
   "metadata": {},
   "outputs": [],
   "source": [
    "max_len = 20\n",
    "total_len = 1024"
   ]
  },
  {
   "cell_type": "code",
   "execution_count": 10,
   "metadata": {},
   "outputs": [
    {
     "data": {
      "text/plain": [
       "(50060, 10)"
      ]
     },
     "execution_count": 10,
     "metadata": {},
     "output_type": "execute_result"
    }
   ],
   "source": [
    "def embed(desc, max_len=max_len, total_len=total_len):\n",
    "    emb = np.array([glove.get(w, glove['unk']) for w in desc[:max_len]]).reshape(-1)\n",
    "    return np.pad(emb, (0, total_len - emb.shape[0]), mode='constant')\n",
    "\n",
    "embeddings = descriptions[descr_cols].applymap(embed).values\n",
    "embeddings.shape"
   ]
  },
  {
   "cell_type": "code",
   "execution_count": 11,
   "metadata": {},
   "outputs": [
    {
     "data": {
      "text/plain": [
       "(50060, 10, 1024)"
      ]
     },
     "execution_count": 11,
     "metadata": {},
     "output_type": "execute_result"
    }
   ],
   "source": [
    "embeddings_mat = np.zeros((embeddings.shape[0], embeddings.shape[1], total_len))\n",
    "for i in range(embeddings.shape[0]):\n",
    "    for j in range(embeddings.shape[1]):\n",
    "        embeddings_mat[i, j, :] = embeddings[i, j]\n",
    "embeddings_mat.shape"
   ]
  },
  {
   "cell_type": "code",
   "execution_count": 12,
   "metadata": {},
   "outputs": [
    {
     "data": {
      "text/plain": [
       "array([-1.0878  ,  0.29802 ,  0.079287, ...,  0.      ,  0.      ,\n",
       "        0.      ])"
      ]
     },
     "execution_count": 12,
     "metadata": {},
     "output_type": "execute_result"
    }
   ],
   "source": [
    "embeddings_mat[5425, 6]"
   ]
  },
  {
   "cell_type": "code",
   "execution_count": 13,
   "metadata": {},
   "outputs": [],
   "source": [
    "import pickle\n",
    "\n",
    "pickle.dump(embeddings_mat, open(\"../../data/shoes_embeddings.pickle\", \"wb\"))"
   ]
  },
  {
   "cell_type": "code",
   "execution_count": null,
   "metadata": {},
   "outputs": [],
   "source": [
    "a = pickle.load(open('shoes_embeddings.pickle', 'rb'))\n",
    "a = np.array(a)\n",
    "a.shape"
   ]
  }
 ],
 "metadata": {
  "kernelspec": {
   "display_name": "Python 3",
   "language": "python",
   "name": "python3"
  },
  "language_info": {
   "codemirror_mode": {
    "name": "ipython",
    "version": 3
   },
   "file_extension": ".py",
   "mimetype": "text/x-python",
   "name": "python",
   "nbconvert_exporter": "python",
   "pygments_lexer": "ipython3",
   "version": "3.7.2"
  }
 },
 "nbformat": 4,
 "nbformat_minor": 2
}
