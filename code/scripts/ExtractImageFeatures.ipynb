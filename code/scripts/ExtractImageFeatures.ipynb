{
 "cells": [
  {
   "cell_type": "code",
   "execution_count": 1,
   "metadata": {},
   "outputs": [],
   "source": [
    "import pandas as pd\n",
    "from extract_image_features import ExtractImageFeature\n",
    "import os\n",
    "import numpy as np\n",
    "from tqdm import tqdm_notebook as tqdm"
   ]
  },
  {
   "cell_type": "code",
   "execution_count": 2,
   "metadata": {},
   "outputs": [],
   "source": [
    "data = pd.read_csv(\"../../data/shoes_v5.csv\")"
   ]
  },
  {
   "cell_type": "code",
   "execution_count": 3,
   "metadata": {},
   "outputs": [
    {
     "data": {
      "text/html": [
       "<div>\n",
       "<style scoped>\n",
       "    .dataframe tbody tr th:only-of-type {\n",
       "        vertical-align: middle;\n",
       "    }\n",
       "\n",
       "    .dataframe tbody tr th {\n",
       "        vertical-align: top;\n",
       "    }\n",
       "\n",
       "    .dataframe thead th {\n",
       "        text-align: right;\n",
       "    }\n",
       "</style>\n",
       "<table border=\"1\" class=\"dataframe\">\n",
       "  <thead>\n",
       "    <tr style=\"text-align: right;\">\n",
       "      <th></th>\n",
       "      <th>Unnamed: 0</th>\n",
       "      <th>CID</th>\n",
       "      <th>Url</th>\n",
       "      <th>Descr0</th>\n",
       "    </tr>\n",
       "  </thead>\n",
       "  <tbody>\n",
       "    <tr>\n",
       "      <th>0</th>\n",
       "      <td>0</td>\n",
       "      <td>100627-255</td>\n",
       "      <td>Shoes/Oxfords/Bostonian/100627.255.jpg</td>\n",
       "      <td>Bostonian Oxfords Lace up Shoes Leather materi...</td>\n",
       "    </tr>\n",
       "    <tr>\n",
       "      <th>1</th>\n",
       "      <td>1</td>\n",
       "      <td>100627-72</td>\n",
       "      <td>Shoes/Oxfords/Bostonian/100627.72.jpg</td>\n",
       "      <td>Bostonian Oxfords Lace up Shoes Leather materi...</td>\n",
       "    </tr>\n",
       "    <tr>\n",
       "      <th>2</th>\n",
       "      <td>2</td>\n",
       "      <td>100657-216</td>\n",
       "      <td>Shoes/Oxfords/Bostonian/100657.216.jpg</td>\n",
       "      <td>Bostonian Oxfords Lace up Shoes Leather materi...</td>\n",
       "    </tr>\n",
       "    <tr>\n",
       "      <th>3</th>\n",
       "      <td>3</td>\n",
       "      <td>100657-72</td>\n",
       "      <td>Shoes/Oxfords/Bostonian/100657.72.jpg</td>\n",
       "      <td>Bostonian Oxfords Lace up Shoes Leather materi...</td>\n",
       "    </tr>\n",
       "    <tr>\n",
       "      <th>4</th>\n",
       "      <td>4</td>\n",
       "      <td>101026-3</td>\n",
       "      <td>Boots/Mid-Calf/Durango/101026.3.jpg</td>\n",
       "      <td>Bostonian Oxfords Lace up Shoes Leather materi...</td>\n",
       "    </tr>\n",
       "  </tbody>\n",
       "</table>\n",
       "</div>"
      ],
      "text/plain": [
       "   Unnamed: 0         CID                                     Url  \\\n",
       "0           0  100627-255  Shoes/Oxfords/Bostonian/100627.255.jpg   \n",
       "1           1   100627-72   Shoes/Oxfords/Bostonian/100627.72.jpg   \n",
       "2           2  100657-216  Shoes/Oxfords/Bostonian/100657.216.jpg   \n",
       "3           3   100657-72   Shoes/Oxfords/Bostonian/100657.72.jpg   \n",
       "4           4    101026-3     Boots/Mid-Calf/Durango/101026.3.jpg   \n",
       "\n",
       "                                              Descr0  \n",
       "0  Bostonian Oxfords Lace up Shoes Leather materi...  \n",
       "1  Bostonian Oxfords Lace up Shoes Leather materi...  \n",
       "2  Bostonian Oxfords Lace up Shoes Leather materi...  \n",
       "3  Bostonian Oxfords Lace up Shoes Leather materi...  \n",
       "4  Bostonian Oxfords Lace up Shoes Leather materi...  "
      ]
     },
     "execution_count": 3,
     "metadata": {},
     "output_type": "execute_result"
    }
   ],
   "source": [
    "data.head()"
   ]
  },
  {
   "cell_type": "code",
   "execution_count": 4,
   "metadata": {},
   "outputs": [],
   "source": [
    "IMAGE_DIR = \"../../data/zappos/Img\""
   ]
  },
  {
   "cell_type": "code",
   "execution_count": 5,
   "metadata": {},
   "outputs": [],
   "source": [
    "urllist = data.Url.tolist()"
   ]
  },
  {
   "cell_type": "code",
   "execution_count": 6,
   "metadata": {},
   "outputs": [],
   "source": [
    "img_features = np.full((data.shape[0], 512), np.nan)"
   ]
  },
  {
   "cell_type": "code",
   "execution_count": 7,
   "metadata": {},
   "outputs": [
    {
     "data": {
      "application/vnd.jupyter.widget-view+json": {
       "model_id": "0c584783201742fb8e1daec87678a567",
       "version_major": 2,
       "version_minor": 0
      },
      "text/plain": [
       "HBox(children=(IntProgress(value=0, max=50060), HTML(value='')))"
      ]
     },
     "metadata": {},
     "output_type": "display_data"
    },
    {
     "name": "stdout",
     "output_type": "stream",
     "text": [
      "\n"
     ]
    }
   ],
   "source": [
    "for i, url in enumerate(tqdm(urllist)):\n",
    "    img_features[i, :] =  ExtractImageFeature(os.path.join(IMAGE_DIR, url))"
   ]
  },
  {
   "cell_type": "code",
   "execution_count": 8,
   "metadata": {},
   "outputs": [],
   "source": [
    "np.save(\"img_features\", img_features)"
   ]
  },
  {
   "cell_type": "code",
   "execution_count": null,
   "metadata": {},
   "outputs": [],
   "source": []
  }
 ],
 "metadata": {
  "kernelspec": {
   "display_name": "Python 3",
   "language": "python",
   "name": "python3"
  },
  "language_info": {
   "codemirror_mode": {
    "name": "ipython",
    "version": 3
   },
   "file_extension": ".py",
   "mimetype": "text/x-python",
   "name": "python",
   "nbconvert_exporter": "python",
   "pygments_lexer": "ipython3",
   "version": "3.7.2"
  }
 },
 "nbformat": 4,
 "nbformat_minor": 2
}
