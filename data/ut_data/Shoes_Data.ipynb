{
 "cells": [
  {
   "cell_type": "code",
   "execution_count": 1,
   "metadata": {},
   "outputs": [],
   "source": [
    "import pandas as pd\n",
    "import matplotlib.pyplot as plt\n",
    "import numpy as np\n",
    "from PIL import Image\n",
    "from urllib.request import urlopen"
   ]
  },
  {
   "cell_type": "code",
   "execution_count": 2,
   "metadata": {},
   "outputs": [],
   "source": [
    "FILEPATH=\"./ut-zap50k-data/meta-data.csv\""
   ]
  },
  {
   "cell_type": "code",
   "execution_count": 3,
   "metadata": {},
   "outputs": [],
   "source": [
    "data = pd.read_csv(FILEPATH)"
   ]
  },
  {
   "cell_type": "code",
   "execution_count": 19,
   "metadata": {},
   "outputs": [
    {
     "data": {
      "text/html": [
       "<div>\n",
       "<style scoped>\n",
       "    .dataframe tbody tr th:only-of-type {\n",
       "        vertical-align: middle;\n",
       "    }\n",
       "\n",
       "    .dataframe tbody tr th {\n",
       "        vertical-align: top;\n",
       "    }\n",
       "\n",
       "    .dataframe thead th {\n",
       "        text-align: right;\n",
       "    }\n",
       "</style>\n",
       "<table border=\"1\" class=\"dataframe\">\n",
       "  <thead>\n",
       "    <tr style=\"text-align: right;\">\n",
       "      <th></th>\n",
       "      <th>CID</th>\n",
       "      <th>Category</th>\n",
       "      <th>SubCategory</th>\n",
       "      <th>HeelHeight</th>\n",
       "      <th>Insole</th>\n",
       "      <th>Closure</th>\n",
       "      <th>Gender</th>\n",
       "      <th>Material</th>\n",
       "      <th>ToeStyle</th>\n",
       "    </tr>\n",
       "  </thead>\n",
       "  <tbody>\n",
       "    <tr>\n",
       "      <th>0</th>\n",
       "      <td>100627-72</td>\n",
       "      <td>Shoes</td>\n",
       "      <td>Oxfords</td>\n",
       "      <td>NaN</td>\n",
       "      <td>Leather</td>\n",
       "      <td>Lace up</td>\n",
       "      <td>Men</td>\n",
       "      <td>Leather</td>\n",
       "      <td>Capped Toe;Round Toe</td>\n",
       "    </tr>\n",
       "    <tr>\n",
       "      <th>1</th>\n",
       "      <td>100627-255</td>\n",
       "      <td>Shoes</td>\n",
       "      <td>Oxfords</td>\n",
       "      <td>NaN</td>\n",
       "      <td>Leather</td>\n",
       "      <td>Lace up</td>\n",
       "      <td>Men</td>\n",
       "      <td>Leather</td>\n",
       "      <td>Capped Toe;Round Toe</td>\n",
       "    </tr>\n",
       "    <tr>\n",
       "      <th>2</th>\n",
       "      <td>100657-72</td>\n",
       "      <td>Shoes</td>\n",
       "      <td>Oxfords</td>\n",
       "      <td>NaN</td>\n",
       "      <td>Leather;Padded;Removable</td>\n",
       "      <td>Lace up</td>\n",
       "      <td>Men</td>\n",
       "      <td>Leather</td>\n",
       "      <td>Capped Toe;Round Toe</td>\n",
       "    </tr>\n",
       "    <tr>\n",
       "      <th>3</th>\n",
       "      <td>100657-216</td>\n",
       "      <td>Shoes</td>\n",
       "      <td>Oxfords</td>\n",
       "      <td>NaN</td>\n",
       "      <td>Leather;Padded;Removable</td>\n",
       "      <td>Lace up</td>\n",
       "      <td>Men</td>\n",
       "      <td>Leather</td>\n",
       "      <td>Capped Toe;Round Toe</td>\n",
       "    </tr>\n",
       "    <tr>\n",
       "      <th>4</th>\n",
       "      <td>101026-3</td>\n",
       "      <td>Boots</td>\n",
       "      <td>Mid-Calf</td>\n",
       "      <td>1in - 1 3/4in</td>\n",
       "      <td>Leather;Padded</td>\n",
       "      <td>Pull-on</td>\n",
       "      <td>Men</td>\n",
       "      <td>Leather;Rubber</td>\n",
       "      <td>Square Toe;Closed Toe</td>\n",
       "    </tr>\n",
       "  </tbody>\n",
       "</table>\n",
       "</div>"
      ],
      "text/plain": [
       "          CID Category SubCategory     HeelHeight                    Insole  \\\n",
       "0   100627-72    Shoes     Oxfords            NaN                   Leather   \n",
       "1  100627-255    Shoes     Oxfords            NaN                   Leather   \n",
       "2   100657-72    Shoes     Oxfords            NaN  Leather;Padded;Removable   \n",
       "3  100657-216    Shoes     Oxfords            NaN  Leather;Padded;Removable   \n",
       "4    101026-3    Boots    Mid-Calf  1in - 1 3/4in            Leather;Padded   \n",
       "\n",
       "   Closure Gender        Material               ToeStyle  \n",
       "0  Lace up    Men         Leather   Capped Toe;Round Toe  \n",
       "1  Lace up    Men         Leather   Capped Toe;Round Toe  \n",
       "2  Lace up    Men         Leather   Capped Toe;Round Toe  \n",
       "3  Lace up    Men         Leather   Capped Toe;Round Toe  \n",
       "4  Pull-on    Men  Leather;Rubber  Square Toe;Closed Toe  "
      ]
     },
     "execution_count": 19,
     "metadata": {},
     "output_type": "execute_result"
    }
   ],
   "source": [
    "data.head()"
   ]
  },
  {
   "cell_type": "code",
   "execution_count": 20,
   "metadata": {},
   "outputs": [
    {
     "data": {
      "text/plain": [
       "(50025, 9)"
      ]
     },
     "execution_count": 20,
     "metadata": {},
     "output_type": "execute_result"
    }
   ],
   "source": [
    "data.shape"
   ]
  },
  {
   "cell_type": "code",
   "execution_count": 28,
   "metadata": {},
   "outputs": [
    {
     "data": {
      "text/plain": [
       "(942,)"
      ]
     },
     "execution_count": 28,
     "metadata": {},
     "output_type": "execute_result"
    }
   ],
   "source": [
    "data.Material.unique().shape"
   ]
  },
  {
   "cell_type": "code",
   "execution_count": 7,
   "metadata": {},
   "outputs": [
    {
     "data": {
      "text/plain": [
       "Lace up                                       14909\n",
       "Slip-On                                       13827\n",
       "Zipper                                         3961\n",
       "Hook and Loop                                  3648\n",
       "Pull-on                                        3516\n",
       "Buckle                                         1650\n",
       "Buckle;Ankle Strap                             1029\n",
       "Elastic Gore;Slip-On                            894\n",
       "Hook and Loop;Lace up                           417\n",
       "Lace up;Zipper                                  417\n",
       "Hook and Loop;Slip-On                           304\n",
       "Pull-on;Zipper                                  298\n",
       "Elastic Gore;Pull-on                            263\n",
       "Buckle;Slip-On                                  254\n",
       "Elastic Gore                                    242\n",
       "Bungee                                          217\n",
       "Buckle;Sling Back                               179\n",
       "Lace up;Pull-on                                 144\n",
       "Lace up;Slip-On                                 137\n",
       "Toggle                                          135\n",
       "Buckle;Pull-on                                  132\n",
       "Elastic Gore;Zipper                             118\n",
       "Buckle;Zipper                                   118\n",
       "Bungee;Toggle                                    93\n",
       "Ankle Strap;Hook and Loop                        86\n",
       "Ankle Strap                                      84\n",
       "Sling Back                                       69\n",
       "Button Loop                                      66\n",
       "Bungee;Hook and Loop                             65\n",
       "Monk Strap                                       61\n",
       "                                              ...  \n",
       "Buckle;Ankle Strap;Elastic Gore                   2\n",
       "Lace up;Zipper;Toggle                             2\n",
       "Slip-On;T-Strap                                   2\n",
       "Bungee;Hook and Loop;Slip-On                      2\n",
       "Elastic Gore;Lace up;Zipper                       2\n",
       "Snap;T-Strap                                      1\n",
       "Bungee;Elastic Gore;Hook and Loop;Toggle          1\n",
       "Bungee;Lace up;Toggle                             1\n",
       "Ankle Strap;Elastic Gore;Zipper                   1\n",
       "Ankle Wrap;Button Loop                            1\n",
       "Buckle;Adjustable                                 1\n",
       "Bungee;Zipper;Toggle                              1\n",
       "Belt;Spat Strap;Toggle                            1\n",
       "Bungee;Spat Strap                                 1\n",
       "Hook and Loop;T-Strap                             1\n",
       "Elastic Gore;Pull-on;Zipper                       1\n",
       "Elastic Gore;Lace up;Pull-on                      1\n",
       "Buckle;Ankle Strap;Slip-On                        1\n",
       "Ankle Wrap;Buckle;Slip-On                         1\n",
       "Spat Strap                                        1\n",
       "Ankle Strap;Pull-on;Slip-On                       1\n",
       "Buckle;Pull-on;Snap                               1\n",
       "Belt;Zipper                                       1\n",
       "Ankle Wrap;Ankle Strap;Slip-On                    1\n",
       "Ankle Wrap;Buckle;Hook and Loop                   1\n",
       "Buckle;Hook and Loop;Slip-On                      1\n",
       "Elastic Gore;Hook and Loop;Lace up;Slip-On        1\n",
       "Belt;Pull-on                                      1\n",
       "Buckle;Belt                                       1\n",
       "Buckle;Pull-on;Toggle                             1\n",
       "Name: Closure, Length: 158, dtype: int64"
      ]
     },
     "execution_count": 7,
     "metadata": {},
     "output_type": "execute_result"
    }
   ],
   "source": [
    "data.Closure.value_counts()"
   ]
  },
  {
   "cell_type": "code",
   "execution_count": 8,
   "metadata": {},
   "outputs": [],
   "source": [
    "import scipy.io"
   ]
  },
  {
   "cell_type": "code",
   "execution_count": 9,
   "metadata": {},
   "outputs": [],
   "source": [
    "IMG_PATHES_MAT = \"./ut-zap50k-data/image-path.mat\""
   ]
  },
  {
   "cell_type": "code",
   "execution_count": 10,
   "metadata": {},
   "outputs": [],
   "source": [
    "mat = scipy.io.loadmat(IMG_PATHES_MAT)"
   ]
  },
  {
   "cell_type": "code",
   "execution_count": 29,
   "metadata": {},
   "outputs": [],
   "source": [
    "urls = mat['imagepath']"
   ]
  },
  {
   "cell_type": "code",
   "execution_count": 32,
   "metadata": {},
   "outputs": [],
   "source": [
    "data['url'] = urls"
   ]
  },
  {
   "cell_type": "code",
   "execution_count": 41,
   "metadata": {},
   "outputs": [],
   "source": [
    "data.url = data.url.apply(lambda x: x[0])"
   ]
  },
  {
   "cell_type": "code",
   "execution_count": 42,
   "metadata": {},
   "outputs": [
    {
     "data": {
      "text/html": [
       "<div>\n",
       "<style scoped>\n",
       "    .dataframe tbody tr th:only-of-type {\n",
       "        vertical-align: middle;\n",
       "    }\n",
       "\n",
       "    .dataframe tbody tr th {\n",
       "        vertical-align: top;\n",
       "    }\n",
       "\n",
       "    .dataframe thead th {\n",
       "        text-align: right;\n",
       "    }\n",
       "</style>\n",
       "<table border=\"1\" class=\"dataframe\">\n",
       "  <thead>\n",
       "    <tr style=\"text-align: right;\">\n",
       "      <th></th>\n",
       "      <th>CID</th>\n",
       "      <th>Category</th>\n",
       "      <th>SubCategory</th>\n",
       "      <th>HeelHeight</th>\n",
       "      <th>Insole</th>\n",
       "      <th>Closure</th>\n",
       "      <th>Gender</th>\n",
       "      <th>Material</th>\n",
       "      <th>ToeStyle</th>\n",
       "      <th>url</th>\n",
       "    </tr>\n",
       "  </thead>\n",
       "  <tbody>\n",
       "    <tr>\n",
       "      <th>0</th>\n",
       "      <td>100627-72</td>\n",
       "      <td>Shoes</td>\n",
       "      <td>Oxfords</td>\n",
       "      <td>NaN</td>\n",
       "      <td>Leather</td>\n",
       "      <td>Lace up</td>\n",
       "      <td>Men</td>\n",
       "      <td>Leather</td>\n",
       "      <td>Capped Toe;Round Toe</td>\n",
       "      <td>Shoes/Oxfords/Bostonian/100627.72.jpg</td>\n",
       "    </tr>\n",
       "    <tr>\n",
       "      <th>1</th>\n",
       "      <td>100627-255</td>\n",
       "      <td>Shoes</td>\n",
       "      <td>Oxfords</td>\n",
       "      <td>NaN</td>\n",
       "      <td>Leather</td>\n",
       "      <td>Lace up</td>\n",
       "      <td>Men</td>\n",
       "      <td>Leather</td>\n",
       "      <td>Capped Toe;Round Toe</td>\n",
       "      <td>Shoes/Oxfords/Bostonian/100627.255.jpg</td>\n",
       "    </tr>\n",
       "    <tr>\n",
       "      <th>2</th>\n",
       "      <td>100657-72</td>\n",
       "      <td>Shoes</td>\n",
       "      <td>Oxfords</td>\n",
       "      <td>NaN</td>\n",
       "      <td>Leather;Padded;Removable</td>\n",
       "      <td>Lace up</td>\n",
       "      <td>Men</td>\n",
       "      <td>Leather</td>\n",
       "      <td>Capped Toe;Round Toe</td>\n",
       "      <td>Shoes/Oxfords/Bostonian/100657.72.jpg</td>\n",
       "    </tr>\n",
       "    <tr>\n",
       "      <th>3</th>\n",
       "      <td>100657-216</td>\n",
       "      <td>Shoes</td>\n",
       "      <td>Oxfords</td>\n",
       "      <td>NaN</td>\n",
       "      <td>Leather;Padded;Removable</td>\n",
       "      <td>Lace up</td>\n",
       "      <td>Men</td>\n",
       "      <td>Leather</td>\n",
       "      <td>Capped Toe;Round Toe</td>\n",
       "      <td>Shoes/Oxfords/Bostonian/100657.216.jpg</td>\n",
       "    </tr>\n",
       "    <tr>\n",
       "      <th>4</th>\n",
       "      <td>101026-3</td>\n",
       "      <td>Boots</td>\n",
       "      <td>Mid-Calf</td>\n",
       "      <td>1in - 1 3/4in</td>\n",
       "      <td>Leather;Padded</td>\n",
       "      <td>Pull-on</td>\n",
       "      <td>Men</td>\n",
       "      <td>Leather;Rubber</td>\n",
       "      <td>Square Toe;Closed Toe</td>\n",
       "      <td>Boots/Mid-Calf/Durango/101026.3.jpg</td>\n",
       "    </tr>\n",
       "  </tbody>\n",
       "</table>\n",
       "</div>"
      ],
      "text/plain": [
       "          CID Category SubCategory     HeelHeight                    Insole  \\\n",
       "0   100627-72    Shoes     Oxfords            NaN                   Leather   \n",
       "1  100627-255    Shoes     Oxfords            NaN                   Leather   \n",
       "2   100657-72    Shoes     Oxfords            NaN  Leather;Padded;Removable   \n",
       "3  100657-216    Shoes     Oxfords            NaN  Leather;Padded;Removable   \n",
       "4    101026-3    Boots    Mid-Calf  1in - 1 3/4in            Leather;Padded   \n",
       "\n",
       "   Closure Gender        Material               ToeStyle  \\\n",
       "0  Lace up    Men         Leather   Capped Toe;Round Toe   \n",
       "1  Lace up    Men         Leather   Capped Toe;Round Toe   \n",
       "2  Lace up    Men         Leather   Capped Toe;Round Toe   \n",
       "3  Lace up    Men         Leather   Capped Toe;Round Toe   \n",
       "4  Pull-on    Men  Leather;Rubber  Square Toe;Closed Toe   \n",
       "\n",
       "                                      url  \n",
       "0   Shoes/Oxfords/Bostonian/100627.72.jpg  \n",
       "1  Shoes/Oxfords/Bostonian/100627.255.jpg  \n",
       "2   Shoes/Oxfords/Bostonian/100657.72.jpg  \n",
       "3  Shoes/Oxfords/Bostonian/100657.216.jpg  \n",
       "4     Boots/Mid-Calf/Durango/101026.3.jpg  "
      ]
     },
     "execution_count": 42,
     "metadata": {},
     "output_type": "execute_result"
    }
   ],
   "source": [
    "data.head()"
   ]
  },
  {
   "cell_type": "code",
   "execution_count": 57,
   "metadata": {},
   "outputs": [],
   "source": [
    "data.ToeStyle = data.ToeStyle.apply(lambda x: str(x).split(';'))"
   ]
  },
  {
   "cell_type": "code",
   "execution_count": 61,
   "metadata": {},
   "outputs": [],
   "source": [
    "s = data.apply(lambda x: pd.Series(x['ToeStyle']),axis=1).stack().reset_index(level=1, drop=True)\n",
    "s.name = 'unique_ToeStyle'\n",
    "data1 = data.join(s)"
   ]
  },
  {
   "cell_type": "code",
   "execution_count": 64,
   "metadata": {},
   "outputs": [],
   "source": [
    "data1.Gender = data.Gender.apply(lambda x: str(x).split(';'))"
   ]
  },
  {
   "cell_type": "code",
   "execution_count": 65,
   "metadata": {},
   "outputs": [],
   "source": [
    "s = data.apply(lambda x: pd.Series(x['Gender']),axis=1).stack().reset_index(level=1, drop=True)\n",
    "s.name = 'unique_Gender'\n",
    "data2 = data.join(s)"
   ]
  },
  {
   "cell_type": "code",
   "execution_count": 104,
   "metadata": {},
   "outputs": [],
   "source": [
    "new_data = pd.read_csv(\"shoes_1.csv\")"
   ]
  },
  {
   "cell_type": "code",
   "execution_count": 105,
   "metadata": {},
   "outputs": [],
   "source": [
    "to_split_list = ['Closure', 'Gender', 'Material']\n",
    "cdf = new_data.copy()\n",
    "for col in to_split_list:\n",
    "    cdf[col] = cdf[col].apply(lambda x: str(x).split(';'))\n",
    "    s = cdf.apply(lambda x: pd.Series(x[col]),axis=1).stack().reset_index(level=1, drop=True)\n",
    "    s.name = 'unique_' + col\n",
    "    cdf = cdf.join(s)    "
   ]
  },
  {
   "cell_type": "code",
   "execution_count": 106,
   "metadata": {},
   "outputs": [
    {
     "data": {
      "text/html": [
       "<div>\n",
       "<style scoped>\n",
       "    .dataframe tbody tr th:only-of-type {\n",
       "        vertical-align: middle;\n",
       "    }\n",
       "\n",
       "    .dataframe tbody tr th {\n",
       "        vertical-align: top;\n",
       "    }\n",
       "\n",
       "    .dataframe thead th {\n",
       "        text-align: right;\n",
       "    }\n",
       "</style>\n",
       "<table border=\"1\" class=\"dataframe\">\n",
       "  <thead>\n",
       "    <tr style=\"text-align: right;\">\n",
       "      <th></th>\n",
       "      <th>CID</th>\n",
       "      <th>Category</th>\n",
       "      <th>SubCategory</th>\n",
       "      <th>HeelHeight</th>\n",
       "      <th>Insole</th>\n",
       "      <th>Closure</th>\n",
       "      <th>Gender</th>\n",
       "      <th>Material</th>\n",
       "      <th>ToeStyle</th>\n",
       "      <th>Brand</th>\n",
       "      <th>Url</th>\n",
       "      <th>unique_Closure</th>\n",
       "      <th>unique_Gender</th>\n",
       "      <th>unique_Material</th>\n",
       "    </tr>\n",
       "  </thead>\n",
       "  <tbody>\n",
       "    <tr>\n",
       "      <th>0</th>\n",
       "      <td>100627-72</td>\n",
       "      <td>Shoes</td>\n",
       "      <td>Oxfords</td>\n",
       "      <td>NaN</td>\n",
       "      <td>Leather</td>\n",
       "      <td>[Lace up]</td>\n",
       "      <td>[Men]</td>\n",
       "      <td>[Leather]</td>\n",
       "      <td>Capped Toe;Round Toe</td>\n",
       "      <td>Bostonian</td>\n",
       "      <td>Shoes/Oxfords/100627.72.jpg</td>\n",
       "      <td>Lace up</td>\n",
       "      <td>Men</td>\n",
       "      <td>Leather</td>\n",
       "    </tr>\n",
       "    <tr>\n",
       "      <th>1</th>\n",
       "      <td>100627-255</td>\n",
       "      <td>Shoes</td>\n",
       "      <td>Oxfords</td>\n",
       "      <td>NaN</td>\n",
       "      <td>Leather</td>\n",
       "      <td>[Lace up]</td>\n",
       "      <td>[Men]</td>\n",
       "      <td>[Leather]</td>\n",
       "      <td>Capped Toe;Round Toe</td>\n",
       "      <td>Bostonian</td>\n",
       "      <td>Shoes/Oxfords/100627.255.jpg</td>\n",
       "      <td>Lace up</td>\n",
       "      <td>Men</td>\n",
       "      <td>Leather</td>\n",
       "    </tr>\n",
       "    <tr>\n",
       "      <th>2</th>\n",
       "      <td>100657-72</td>\n",
       "      <td>Shoes</td>\n",
       "      <td>Oxfords</td>\n",
       "      <td>NaN</td>\n",
       "      <td>Leather;Padded;Removable</td>\n",
       "      <td>[Lace up]</td>\n",
       "      <td>[Men]</td>\n",
       "      <td>[Leather]</td>\n",
       "      <td>Capped Toe;Round Toe</td>\n",
       "      <td>Bostonian</td>\n",
       "      <td>Shoes/Oxfords/100657.72.jpg</td>\n",
       "      <td>Lace up</td>\n",
       "      <td>Men</td>\n",
       "      <td>Leather</td>\n",
       "    </tr>\n",
       "    <tr>\n",
       "      <th>3</th>\n",
       "      <td>100657-216</td>\n",
       "      <td>Shoes</td>\n",
       "      <td>Oxfords</td>\n",
       "      <td>NaN</td>\n",
       "      <td>Leather;Padded;Removable</td>\n",
       "      <td>[Lace up]</td>\n",
       "      <td>[Men]</td>\n",
       "      <td>[Leather]</td>\n",
       "      <td>Capped Toe;Round Toe</td>\n",
       "      <td>Bostonian</td>\n",
       "      <td>Shoes/Oxfords/100657.216.jpg</td>\n",
       "      <td>Lace up</td>\n",
       "      <td>Men</td>\n",
       "      <td>Leather</td>\n",
       "    </tr>\n",
       "    <tr>\n",
       "      <th>4</th>\n",
       "      <td>101026-3</td>\n",
       "      <td>Boots</td>\n",
       "      <td>Mid-Calf</td>\n",
       "      <td>1in - 1 3/4in</td>\n",
       "      <td>Leather;Padded</td>\n",
       "      <td>[Pull-on]</td>\n",
       "      <td>[Men]</td>\n",
       "      <td>[Leather, Rubber]</td>\n",
       "      <td>Square Toe;Closed Toe</td>\n",
       "      <td>Durango</td>\n",
       "      <td>Boots/Mid-Calf/101026.3.jpg</td>\n",
       "      <td>Pull-on</td>\n",
       "      <td>Men</td>\n",
       "      <td>Leather</td>\n",
       "    </tr>\n",
       "  </tbody>\n",
       "</table>\n",
       "</div>"
      ],
      "text/plain": [
       "          CID Category SubCategory     HeelHeight                    Insole  \\\n",
       "0   100627-72    Shoes     Oxfords            NaN                   Leather   \n",
       "1  100627-255    Shoes     Oxfords            NaN                   Leather   \n",
       "2   100657-72    Shoes     Oxfords            NaN  Leather;Padded;Removable   \n",
       "3  100657-216    Shoes     Oxfords            NaN  Leather;Padded;Removable   \n",
       "4    101026-3    Boots    Mid-Calf  1in - 1 3/4in            Leather;Padded   \n",
       "\n",
       "     Closure Gender           Material               ToeStyle      Brand  \\\n",
       "0  [Lace up]  [Men]          [Leather]   Capped Toe;Round Toe  Bostonian   \n",
       "1  [Lace up]  [Men]          [Leather]   Capped Toe;Round Toe  Bostonian   \n",
       "2  [Lace up]  [Men]          [Leather]   Capped Toe;Round Toe  Bostonian   \n",
       "3  [Lace up]  [Men]          [Leather]   Capped Toe;Round Toe  Bostonian   \n",
       "4  [Pull-on]  [Men]  [Leather, Rubber]  Square Toe;Closed Toe    Durango   \n",
       "\n",
       "                            Url unique_Closure unique_Gender unique_Material  \n",
       "0   Shoes/Oxfords/100627.72.jpg        Lace up           Men         Leather  \n",
       "1  Shoes/Oxfords/100627.255.jpg        Lace up           Men         Leather  \n",
       "2   Shoes/Oxfords/100657.72.jpg        Lace up           Men         Leather  \n",
       "3  Shoes/Oxfords/100657.216.jpg        Lace up           Men         Leather  \n",
       "4   Boots/Mid-Calf/101026.3.jpg        Pull-on           Men         Leather  "
      ]
     },
     "execution_count": 106,
     "metadata": {},
     "output_type": "execute_result"
    }
   ],
   "source": [
    "cdf.head()"
   ]
  },
  {
   "cell_type": "code",
   "execution_count": 107,
   "metadata": {},
   "outputs": [],
   "source": [
    "cdf.to_csv(\"shoes_v2.csv\")"
   ]
  },
  {
   "cell_type": "code",
   "execution_count": null,
   "metadata": {},
   "outputs": [],
   "source": []
  }
 ],
 "metadata": {
  "kernelspec": {
   "display_name": "Python 3",
   "language": "python",
   "name": "python3"
  },
  "language_info": {
   "codemirror_mode": {
    "name": "ipython",
    "version": 3
   },
   "file_extension": ".py",
   "mimetype": "text/x-python",
   "name": "python",
   "nbconvert_exporter": "python",
   "pygments_lexer": "ipython3",
   "version": "3.7.2"
  }
 },
 "nbformat": 4,
 "nbformat_minor": 2
}
